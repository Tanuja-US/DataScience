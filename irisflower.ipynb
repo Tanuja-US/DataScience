{
  "nbformat": 4,
  "nbformat_minor": 0,
  "metadata": {
    "colab": {
      "name": "irisflower.ipynb",
      "provenance": [],
      "collapsed_sections": [],
      "authorship_tag": "ABX9TyP0K443bi1zuT1jmoTZC5k4",
      "include_colab_link": true
    },
    "kernelspec": {
      "name": "python3",
      "display_name": "Python 3"
    },
    "language_info": {
      "name": "python"
    }
  },
  "cells": [
    {
      "cell_type": "markdown",
      "metadata": {
        "id": "view-in-github",
        "colab_type": "text"
      },
      "source": [
        "<a href=\"https://colab.research.google.com/github/Tanuja-US/LGMVIP-DataScience/blob/main/irisflower.ipynb\" target=\"_parent\"><img src=\"https://colab.research.google.com/assets/colab-badge.svg\" alt=\"Open In Colab\"/></a>"
      ]
    },
    {
      "cell_type": "code",
      "metadata": {
        "colab": {
          "base_uri": "https://localhost:8080/"
        },
        "id": "ogmO4ebcjXdW",
        "outputId": "f9a00694-e6cb-4303-eede-12181a9c1788"
      },
      "source": [
        "# importing required libraries \n",
        "import numpy as np\n",
        "import pandas as pd\n",
        "import seaborn as sns\n",
        "sns.set_palette('husl')\n",
        "import matplotlib.pyplot as plt\n",
        "%matplotlib inline\n",
        "from sklearn.model_selection import train_test_split\n",
        "from sklearn.discriminant_analysis import LinearDiscriminantAnalysis\n",
        "from sklearn.model_selection import StratifiedKFold\n",
        "from sklearn.svm import SVC\n",
        "from sklearn.metrics import classification_report\n",
        "from sklearn.linear_model import LogisticRegression\n",
        "from sklearn.model_selection import cross_val_score\n",
        "from sklearn.neighbors import KNeighborsClassifier\n",
        "from sklearn.metrics import accuracy_score\n",
        "from sklearn.naive_bayes import GaussianNB\n",
        "from sklearn.tree import DecisionTreeClassifier\n",
        "\n",
        "# loading the data\n",
        "data_set = 'https://raw.githubusercontent.com/Tanuja-US/LGMVIP-DataScience/69a4669db6c02aebee17eab458de0ffc340477be/iris.csv'\n",
        "column_name = ['sepal-lenght','sepal-width','petal-lenght','petal-width','iris-class']\n",
        "dataset = pd.read_csv(data_set, names = column_name)\n",
        "# dataset.shape\n",
        "#dataset.head()\n",
        "#dataset.info()\n",
        "# dataset.describe()\n",
        "# dataset['iris-class'].value_counts()\n",
        "\n",
        "#visulazing the data\n",
        "sns.barplot(x='iris-class', y='sepal-lenght', data=dataset)\n",
        "plt.show()\n",
        "sns.barplot(x='iris-class', y='sepal-width', data=dataset)\n",
        "plt.show()\n",
        "sns.barplot(x='iris-class', y='petal-lenght', data=dataset)\n",
        "plt.show()\n",
        "sns.barplot(x='iris-class', y='petal-width', data=dataset)\n",
        "plt.show()\n",
        "sns.set_theme(style=\"whitegrid\")\n",
        "\n",
        "sns.pairplot(dataset, hue='iris-class', size=2.5)\n",
        "\n",
        "# splitting the data for traning \n",
        "value=dataset.values\n",
        "X = value[:,0:4]\n",
        "Y = value[:,4]\n",
        "x_train, x_test, y_train, y_test = train_test_split(X, Y, test_size=0.8, random_state=28)\n",
        "\n",
        "#checking the best model to use \n",
        "model = [('KNN', KNeighborsClassifier()), ('LR', LogisticRegression() ),('LDA', LinearDiscriminantAnalysis()),('CART', DecisionTreeClassifier()),('NB', GaussianNB()),('SVC', SVC(gamma='auto'))]\n",
        "for name, model in model:\n",
        "  model.fit(x_train,y_train)\n",
        "  prediction = model.predict(x_test)\n",
        "  print('%s: %f' % (name, accuracy_score(y_test,prediction)))\n",
        "\n",
        "#using svc model\n",
        "model = SVC(gamma='auto')\n",
        "model.fit(x_train,y_train)\n",
        "prediction = model.predict(x_test)\n",
        "print('%s: %f' % ('accuracy', accuracy_score(y_test,prediction)))\n",
        "print('Classification Report:')\n",
        "print(classification_report(y_test, prediction))"
      ],
      "execution_count": 104,
      "outputs": [
        {
          "output_type": "stream",
          "name": "stdout",
          "text": [
            "KNN: 0.933333\n",
            "LR: 0.908333\n",
            "LDA: 0.958333\n",
            "CART: 0.941667\n",
            "NB: 0.925000\n",
            "SVC: 0.950000\n",
            "accuracy: 0.950000\n",
            "Classification Report:\n",
            "                 precision    recall  f1-score   support\n",
            "\n",
            "    Iris-setosa       1.00      1.00      1.00        37\n",
            "Iris-versicolor       0.95      0.91      0.93        43\n",
            " Iris-virginica       0.90      0.95      0.93        40\n",
            "\n",
            "       accuracy                           0.95       120\n",
            "      macro avg       0.95      0.95      0.95       120\n",
            "   weighted avg       0.95      0.95      0.95       120\n",
            "\n"
          ]
        }
      ]
    }
  ]
}